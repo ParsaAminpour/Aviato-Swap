{
 "cells": [
  {
   "cell_type": "code",
   "execution_count": 2,
   "metadata": {},
   "outputs": [],
   "source": [
    "import matplotlib.pyplot as plt\n",
    "import matplotlib as plot\n",
    "import pandas as pd\n",
    "import numpy as np\n",
    "import seaborn as sns\n",
    "from rich import print, pretty\n",
    "from rich.console import Console\n",
    "from glob import glob\n",
    "# from mpl_finance import candlestick_ohlc\n",
    "import matplotlib.dates as plt_date\n",
    "import pandas_datareader as pdr\n",
    "import tweepy\n",
    "import webbrowser\n",
    "from sklearn.linear_model import LinearRegression\n",
    "import xlrd, itertools, re, os, math\n",
    "import mplfinance as mpf\n",
    "from datetime import datetime as dt\n",
    "import matplotlib.animation as animation\n",
    "import warnings, math\n",
    "# plt.style.use(['science', 'notebook'])\n",
    "warnings.simplefilter('ignore')"
   ]
  },
  {
   "cell_type": "code",
   "execution_count": 3,
   "metadata": {},
   "outputs": [],
   "source": [
    "API_KEY = \"0Q128gomlU0IWRS7gU8XKKpMO\"\n",
    "API_SECRET_KEY = \"7BXPWKTxH6mInjDjY5SCOAe8v7Ueujgu4msdodee9rAgTmAYWM\"\n",
    "BEARER = \"AAAAAAAAAAAAAAAAAAAAAHFreAEAAAAAIVCvposrjwGpLvMgF6rrA7McNeA%3DjvwcUe0HFktp0FsJKjShiYEWtKe5RmUSiNrk5kqgCznGsdgOtI\"\n",
    "ACCESS_TOKEN = \"1378945133073334272-n4bp6iaUv1GlTywau6aRnzYdbR4LEF\"\n",
    "ACCESS_SECRET_TOKEN = \"uy1WjfHzbabn3jg2qxXKs097x7rLWAi7TjGKuYzsqs2AA\""
   ]
  },
  {
   "cell_type": "code",
   "execution_count": 92,
   "metadata": {},
   "outputs": [
    {
     "ename": "TypeError",
     "evalue": "list indices must be integers or slices, not str",
     "output_type": "error",
     "traceback": [
      "\u001b[0;31m---------------------------------------------------------------------------\u001b[0m",
      "\u001b[0;31mTypeError\u001b[0m                                 Traceback (most recent call last)",
      "\u001b[1;32m/home/doostan/Desktop/Aviato-Swap/back-end/twitter_api.ipynb Cell 3'\u001b[0m in \u001b[0;36m<module>\u001b[0;34m\u001b[0m\n\u001b[1;32m     <a href='vscode-notebook-cell:/home/doostan/Desktop/Aviato-Swap/back-end/twitter_api.ipynb#ch0000002?line=14'>15</a>\u001b[0m main \u001b[39m=\u001b[39m [client\u001b[39m.\u001b[39mget_user(\u001b[39mid\u001b[39m\u001b[39m=\u001b[39mkey) \u001b[39mfor\u001b[39;00m key \u001b[39min\u001b[39;00m keys]\n\u001b[1;32m     <a href='vscode-notebook-cell:/home/doostan/Desktop/Aviato-Swap/back-end/twitter_api.ipynb#ch0000002?line=16'>17</a>\u001b[0m \u001b[39mfor\u001b[39;00m data \u001b[39min\u001b[39;00m response2\u001b[39m.\u001b[39mdata:\n\u001b[0;32m---> <a href='vscode-notebook-cell:/home/doostan/Desktop/Aviato-Swap/back-end/twitter_api.ipynb#ch0000002?line=17'>18</a>\u001b[0m     \u001b[39mprint\u001b[39m(data\u001b[39m.\u001b[39;49mreferenced_tweets[\u001b[39m'\u001b[39;49m\u001b[39mid\u001b[39;49m\u001b[39m'\u001b[39;49m], sep\u001b[39m=\u001b[39m\u001b[39m'\u001b[39m\u001b[39m\\t\u001b[39;00m\u001b[39m'\u001b[39m)\n",
      "\u001b[0;31mTypeError\u001b[0m: list indices must be integers or slices, not str"
     ]
    }
   ],
   "source": [
    "client = tweepy.Client(bearer_token=BEARER)\n",
    "\n",
    "user = client.get_user(username=\"MrTuriing\")\n",
    "\n",
    "# response = tweepy.Paginator(client.search_recent_tweets, query=\"#BTC OR #ETH\", ).flatten(limit=20)\n",
    "q =\"#BTC OR #ETH\"\n",
    "response = client.search_recent_tweets(query=\"#BTC OR #ETH\", max_results=10, user_fields=[\"profile_image_url\"])\n",
    "\n",
    "# for data in response.data:\n",
    "#     print(data.author_id)\n",
    "response2 = client.search_recent_tweets(query=q, user_fields=['profile_image_url', 'username'], expansions=[\"author_id\",\"referenced_tweets.id\"], max_results=10)\n",
    "result = {data.author_id : data.text.strip() for data in response2.data}\n",
    "\n",
    "keys = list(result.keys())\n",
    "main = [client.get_user(id=key) for key in keys]\n",
    "\n",
    "for data in response2.data:\n",
    "    print(data.referenced_tweets, sep='\\t')"
   ]
  },
  {
   "cell_type": "code",
   "execution_count": 69,
   "metadata": {},
   "outputs": [
    {
     "data": {
      "text/html": [
       "<pre style=\"white-space:pre;overflow-x:auto;line-height:normal;font-family:Menlo,'DejaVu Sans Mono',consolas,'Courier New',monospace\">MrKingArtist    @neurystic Uncle Charlie |Price <span style=\"color: #008080; text-decoration-color: #008080; font-weight: bold\">0.04</span> ETH | <span style=\"color: #008080; text-decoration-color: #008080; font-weight: bold\">1</span>/<span style=\"color: #008080; text-decoration-color: #008080; font-weight: bold\">1</span> <span style=\"color: #0000ff; text-decoration-color: #0000ff; text-decoration: underline\">https://t.co/zkIrXzpMNu</span> via \n",
       "@opensea\n",
       "#KingArtist #OpenSea #OpenseaNFT #NFTCommunity #Crypto #Meta #Metaverse #NFT #NFTs #Eth \n",
       "#Ethereum #OpenSeaCommunity #Cryptocrash  #Polygon #PolygonNFT #PolygnNFTS #ElonMusk \n",
       "#NFTcollection #OpenSeaCollection\n",
       "</pre>\n"
      ],
      "text/plain": [
       "MrKingArtist    @neurystic Uncle Charlie |Price \u001b[1;36m0.04\u001b[0m ETH | \u001b[1;36m1\u001b[0m/\u001b[1;36m1\u001b[0m \u001b[4;94mhttps://t.co/zkIrXzpMNu\u001b[0m via \n",
       "@opensea\n",
       "#KingArtist #OpenSea #OpenseaNFT #NFTCommunity #Crypto #Meta #Metaverse #NFT #NFTs #Eth \n",
       "#Ethereum #OpenSeaCommunity #Cryptocrash  #Polygon #PolygonNFT #PolygnNFTS #ElonMusk \n",
       "#NFTcollection #OpenSeaCollection\n"
      ]
     },
     "metadata": {},
     "output_type": "display_data"
    },
    {
     "data": {
      "text/html": [
       "<pre style=\"white-space:pre;overflow-x:auto;line-height:normal;font-family:Menlo,'DejaVu Sans Mono',consolas,'Courier New',monospace\">victor_goold    RT @HENRY2_MIMA: #SHIBAINU2 is a valuable and profitable currency with which \n",
       "you can change your world💪🏻❤\n",
       "\n",
       "🔸official website🔸\n",
       "<span style=\"color: #0000ff; text-decoration-color: #0000ff; text-decoration: underline\">https://t.co/</span>…\n",
       "</pre>\n"
      ],
      "text/plain": [
       "victor_goold    RT @HENRY2_MIMA: #SHIBAINU2 is a valuable and profitable currency with which \n",
       "you can change your world💪🏻❤\n",
       "\n",
       "🔸official website🔸\n",
       "\u001b[4;94mhttps://t.co/\u001b[0m…\n"
      ]
     },
     "metadata": {},
     "output_type": "display_data"
    },
    {
     "data": {
      "text/html": [
       "<pre style=\"white-space:pre;overflow-x:auto;line-height:normal;font-family:Menlo,'DejaVu Sans Mono',consolas,'Courier New',monospace\">Rafafau_Gift    RT @AshtonNFTs: ⬇ Pre-Sale Open Minting @ .02ETH <span style=\"color: #0000ff; text-decoration-color: #0000ff; text-decoration: underline\">https://t.co/JxrzQcPg2h</span>\n",
       "\n",
       " Prizes:\n",
       "🏆1x PhatRat #NFT\n",
       "🏅5x WL spots\n",
       "\n",
       "~Rules:\n",
       "<span style=\"color: #008080; text-decoration-color: #008080; font-weight: bold\">1</span>⃣RT &amp;amp;❤️\n",
       "<span style=\"color: #008080; text-decoration-color: #008080; font-weight: bold\">2</span>⃣Follow…\n",
       "</pre>\n"
      ],
      "text/plain": [
       "Rafafau_Gift    RT @AshtonNFTs: ⬇ Pre-Sale Open Minting @ .02ETH \u001b[4;94mhttps://t.co/JxrzQcPg2h\u001b[0m\n",
       "\n",
       " Prizes:\n",
       "🏆1x PhatRat #NFT\n",
       "🏅5x WL spots\n",
       "\n",
       "~Rules:\n",
       "\u001b[1;36m1\u001b[0m⃣RT &amp;❤️\n",
       "\u001b[1;36m2\u001b[0m⃣Follow…\n"
      ]
     },
     "metadata": {},
     "output_type": "display_data"
    },
    {
     "data": {
      "text/html": [
       "<pre style=\"white-space:pre;overflow-x:auto;line-height:normal;font-family:Menlo,'DejaVu Sans Mono',consolas,'Courier New',monospace\">AdaAltunlalala1 RT @CryptoSarraf: Herkez birşeyi birileride onu söylüyor yada olan şey trend \n",
       "diye söyler mesele bu degildir mesele suki kimsenin göremediği…\n",
       "</pre>\n"
      ],
      "text/plain": [
       "AdaAltunlalala1 RT @CryptoSarraf: Herkez birşeyi birileride onu söylüyor yada olan şey trend \n",
       "diye söyler mesele bu degildir mesele suki kimsenin göremediği…\n"
      ]
     },
     "metadata": {},
     "output_type": "display_data"
    },
    {
     "data": {
      "text/html": [
       "<pre style=\"white-space:pre;overflow-x:auto;line-height:normal;font-family:Menlo,'DejaVu Sans Mono',consolas,'Courier New',monospace\">IOST_210        NXDが～\n",
       "\n",
       "キタ～～～～～～～～～～\n",
       "\n",
       "#NXD #MEXC #ビットコイン\n",
       "#XYM #XRP #ETH #BTC\n",
       "</pre>\n"
      ],
      "text/plain": [
       "IOST_210        NXDが～\n",
       "\n",
       "キタ～～～～～～～～～～\n",
       "\n",
       "#NXD #MEXC #ビットコイン\n",
       "#XYM #XRP #ETH #BTC\n"
      ]
     },
     "metadata": {},
     "output_type": "display_data"
    },
    {
     "data": {
      "text/html": [
       "<pre style=\"white-space:pre;overflow-x:auto;line-height:normal;font-family:Menlo,'DejaVu Sans Mono',consolas,'Courier New',monospace\">koller_sissy    RT @ania0060: Marvin_Inu will make a distinct difference of \n",
       "progression🚀🚀🚀in both #Utilities and community\n",
       "🔱TG :<span style=\"color: #0000ff; text-decoration-color: #0000ff; text-decoration: underline\">https://t.co/xWKQwfi6Et</span>\n",
       "🔅\n",
       "T…\n",
       "</pre>\n"
      ],
      "text/plain": [
       "koller_sissy    RT @ania0060: Marvin_Inu will make a distinct difference of \n",
       "progression🚀🚀🚀in both #Utilities and community\n",
       "🔱TG :\u001b[4;94mhttps://t.co/xWKQwfi6Et\u001b[0m\n",
       "🔅\n",
       "T…\n"
      ]
     },
     "metadata": {},
     "output_type": "display_data"
    },
    {
     "data": {
      "text/html": [
       "<pre style=\"white-space:pre;overflow-x:auto;line-height:normal;font-family:Menlo,'DejaVu Sans Mono',consolas,'Courier New',monospace\">Simonspiteri22  कल रात सभी 100वें #GroveToken सस्ता विजेताओं को बहुत-बहुत बधाई! \n",
       "\n",
       "सप्ताहांत की शुरुआत करने का क्या ही बढ़िया तरीका है!\n",
       "\n",
       " मैं \n",
       "\n",
       "GroveToken भारतीय टेलीग्राम\n",
       "<span style=\"color: #0000ff; text-decoration-color: #0000ff; text-decoration: underline\">https://t.co/2ZECfG5yO5</span>\n",
       "\n",
       "#GroveToken #Indian #GroveGreenArmy #cryptocurrency #SAFEMOONARMY #crypto #BSC #BNB  #India \n",
       "#ETH <span style=\"color: #0000ff; text-decoration-color: #0000ff; text-decoration: underline\">https://t.co/DeLRH1CZM5</span>\n",
       "</pre>\n"
      ],
      "text/plain": [
       "Simonspiteri22  कल रात सभी 100वें #GroveToken सस्ता विजेताओं को बहुत-बहुत बधाई! \n",
       "\n",
       "सप्ताहांत की शुरुआत करने का क्या ही बढ़िया तरीका है!\n",
       "\n",
       " मैं \n",
       "\n",
       "GroveToken भारतीय टेलीग्राम\n",
       "\u001b[4;94mhttps://t.co/2ZECfG5yO5\u001b[0m\n",
       "\n",
       "#GroveToken #Indian #GroveGreenArmy #cryptocurrency #SAFEMOONARMY #crypto #BSC #BNB  #India \n",
       "#ETH \u001b[4;94mhttps://t.co/DeLRH1CZM5\u001b[0m\n"
      ]
     },
     "metadata": {},
     "output_type": "display_data"
    },
    {
     "data": {
      "text/html": [
       "<pre style=\"white-space:pre;overflow-x:auto;line-height:normal;font-family:Menlo,'DejaVu Sans Mono',consolas,'Courier New',monospace\">Rennn31589167   RT @posschain: 🚨 GIVEAWAY @posschain \n",
       "\n",
       "🎁 <span style=\"color: #008080; text-decoration-color: #008080; font-weight: bold\">1000</span> winners will share $<span style=\"color: #008080; text-decoration-color: #008080; font-weight: bold\">22</span>,<span style=\"color: #008080; text-decoration-color: #008080; font-weight: bold\">500</span> worth of $USDT\n",
       "\n",
       "📑 Complete the tasks 👉 <span style=\"color: #0000ff; text-decoration-color: #0000ff; text-decoration: underline\">https://t.co/YBYtvjplbA</span>\n",
       "\n",
       "⌛️…\n",
       "</pre>\n"
      ],
      "text/plain": [
       "Rennn31589167   RT @posschain: 🚨 GIVEAWAY @posschain \n",
       "\n",
       "🎁 \u001b[1;36m1000\u001b[0m winners will share $\u001b[1;36m22\u001b[0m,\u001b[1;36m500\u001b[0m worth of $USDT\n",
       "\n",
       "📑 Complete the tasks 👉 \u001b[4;94mhttps://t.co/YBYtvjplbA\u001b[0m\n",
       "\n",
       "⌛️…\n"
      ]
     },
     "metadata": {},
     "output_type": "display_data"
    },
    {
     "data": {
      "text/html": [
       "<pre style=\"white-space:pre;overflow-x:auto;line-height:normal;font-family:Menlo,'DejaVu Sans Mono',consolas,'Courier New',monospace\">bakata420       RT @solsoldier222: 🚨SOL GIVEAWAY🚨\n",
       "\n",
       "Prize:\n",
       "🏆<span style=\"color: #008080; text-decoration-color: #008080; font-weight: bold\">0.5</span> $SOL\n",
       "\n",
       "You Must:\n",
       "<span style=\"color: #008080; text-decoration-color: #008080; font-weight: bold\">1</span>️⃣Follow @BonezDAO &amp;amp; @solsoldier222 \n",
       "<span style=\"color: #008080; text-decoration-color: #008080; font-weight: bold\">2</span>️⃣RT &amp;amp; ❤️ \n",
       "<span style=\"color: #008080; text-decoration-color: #008080; font-weight: bold\">3</span>️⃣Tag <span style=\"color: #008080; text-decoration-color: #008080; font-weight: bold\">3</span> Friends \n",
       "\n",
       "🎯BONUS…\n",
       "</pre>\n"
      ],
      "text/plain": [
       "bakata420       RT @solsoldier222: 🚨SOL GIVEAWAY🚨\n",
       "\n",
       "Prize:\n",
       "🏆\u001b[1;36m0.5\u001b[0m $SOL\n",
       "\n",
       "You Must:\n",
       "\u001b[1;36m1\u001b[0m️⃣Follow @BonezDAO &amp; @solsoldier222 \n",
       "\u001b[1;36m2\u001b[0m️⃣RT &amp; ❤️ \n",
       "\u001b[1;36m3\u001b[0m️⃣Tag \u001b[1;36m3\u001b[0m Friends \n",
       "\n",
       "🎯BONUS…\n"
      ]
     },
     "metadata": {},
     "output_type": "display_data"
    },
    {
     "data": {
      "text/html": [
       "<pre style=\"white-space:pre;overflow-x:auto;line-height:normal;font-family:Menlo,'DejaVu Sans Mono',consolas,'Courier New',monospace\">Maaybewinss_29  RT @Isekai_Verse: We are running a day of #Giveaways tomorrow. We will have \n",
       "two different events for each platform. Please Join us in both…\n",
       "</pre>\n"
      ],
      "text/plain": [
       "Maaybewinss_29  RT @Isekai_Verse: We are running a day of #Giveaways tomorrow. We will have \n",
       "two different events for each platform. Please Join us in both…\n"
      ]
     },
     "metadata": {},
     "output_type": "display_data"
    }
   ],
   "source": [
    "client = tweepy.Client(bearer_token = BEARER)\n",
    "\n",
    "q =\"#BTC OR #ETH\"\n",
    "response2 = client.search_recent_tweets(query=q, user_fields=['profile_image_url', 'username'], expansions=[\"author_id\"], max_results=10)\n",
    "result = {data.author_id : data.text.strip() for data in response2.data}\n",
    "users = [client.get_user(id=key) for key in list(result)]\n",
    "\n",
    "usernames = [user.data.username for user in users]\n",
    "tweets = list(result.values())\n",
    "\n",
    "main_result = zip(usernames,tweets)\n",
    "# rooms = Room.objects.all()\t\n",
    "ctx = {'tweets' : main_result}\n",
    "for user,tw in main_result:\n",
    "    print(user, tw, sep='\\t')"
   ]
  },
  {
   "cell_type": "code",
   "execution_count": 62,
   "metadata": {},
   "outputs": [
    {
     "data": {
      "text/html": [
       "<pre style=\"white-space:pre;overflow-x:auto;line-height:normal;font-family:Menlo,'DejaVu Sans Mono',consolas,'Courier New',monospace\">SabueroMarie\n",
       "</pre>\n"
      ],
      "text/plain": [
       "SabueroMarie\n"
      ]
     },
     "metadata": {},
     "output_type": "display_data"
    },
    {
     "data": {
      "text/html": [
       "<pre style=\"white-space:pre;overflow-x:auto;line-height:normal;font-family:Menlo,'DejaVu Sans Mono',consolas,'Courier New',monospace\">CryptoSpaceCake\n",
       "</pre>\n"
      ],
      "text/plain": [
       "CryptoSpaceCake\n"
      ]
     },
     "metadata": {},
     "output_type": "display_data"
    },
    {
     "data": {
      "text/html": [
       "<pre style=\"white-space:pre;overflow-x:auto;line-height:normal;font-family:Menlo,'DejaVu Sans Mono',consolas,'Courier New',monospace\">naser96570029\n",
       "</pre>\n"
      ],
      "text/plain": [
       "naser96570029\n"
      ]
     },
     "metadata": {},
     "output_type": "display_data"
    },
    {
     "data": {
      "text/html": [
       "<pre style=\"white-space:pre;overflow-x:auto;line-height:normal;font-family:Menlo,'DejaVu Sans Mono',consolas,'Courier New',monospace\">Marialasdeangel\n",
       "</pre>\n"
      ],
      "text/plain": [
       "Marialasdeangel\n"
      ]
     },
     "metadata": {},
     "output_type": "display_data"
    },
    {
     "data": {
      "text/html": [
       "<pre style=\"white-space:pre;overflow-x:auto;line-height:normal;font-family:Menlo,'DejaVu Sans Mono',consolas,'Courier New',monospace\">nuco_bot\n",
       "</pre>\n"
      ],
      "text/plain": [
       "nuco_bot\n"
      ]
     },
     "metadata": {},
     "output_type": "display_data"
    },
    {
     "data": {
      "text/html": [
       "<pre style=\"white-space:pre;overflow-x:auto;line-height:normal;font-family:Menlo,'DejaVu Sans Mono',consolas,'Courier New',monospace\"><span style=\"color: #008080; text-decoration-color: #008080; font-weight: bold\">0x</span>pickaws\n",
       "</pre>\n"
      ],
      "text/plain": [
       "\u001b[1;36m0x\u001b[0mpickaws\n"
      ]
     },
     "metadata": {},
     "output_type": "display_data"
    },
    {
     "data": {
      "text/html": [
       "<pre style=\"white-space:pre;overflow-x:auto;line-height:normal;font-family:Menlo,'DejaVu Sans Mono',consolas,'Courier New',monospace\">manzaram22\n",
       "</pre>\n"
      ],
      "text/plain": [
       "manzaram22\n"
      ]
     },
     "metadata": {},
     "output_type": "display_data"
    },
    {
     "data": {
      "text/html": [
       "<pre style=\"white-space:pre;overflow-x:auto;line-height:normal;font-family:Menlo,'DejaVu Sans Mono',consolas,'Courier New',monospace\">suase_wincityxx\n",
       "</pre>\n"
      ],
      "text/plain": [
       "suase_wincityxx\n"
      ]
     },
     "metadata": {},
     "output_type": "display_data"
    },
    {
     "data": {
      "text/html": [
       "<pre style=\"white-space:pre;overflow-x:auto;line-height:normal;font-family:Menlo,'DejaVu Sans Mono',consolas,'Courier New',monospace\">Humphre27685527\n",
       "</pre>\n"
      ],
      "text/plain": [
       "Humphre27685527\n"
      ]
     },
     "metadata": {},
     "output_type": "display_data"
    },
    {
     "data": {
      "text/html": [
       "<pre style=\"white-space:pre;overflow-x:auto;line-height:normal;font-family:Menlo,'DejaVu Sans Mono',consolas,'Courier New',monospace\">delajah__\n",
       "</pre>\n"
      ],
      "text/plain": [
       "delajah__\n"
      ]
     },
     "metadata": {},
     "output_type": "display_data"
    }
   ],
   "source": [
    "response2 = client.search_recent_tweets(query=q, user_fields=['profile_image_url', 'username'], expansions=[\"author_id\"], max_results=10)\n",
    "result = {data.author_id : data.text.strip() for data in response2.data}\n",
    "\n",
    "users = [client.get_user(id=key) for key in list(result)]\n",
    "usernames = [user.data.username for user in users]\n",
    "tweets = list(result.values())\n",
    "\n",
    "main_result = zip(usernames,tweets)\n",
    "for data in main_result:\n",
    "    print(data[0])"
   ]
  },
  {
   "cell_type": "markdown",
   "metadata": {},
   "source": [
    "<center><h2> This is sample code NOT executable </h2></center>"
   ]
  },
  {
   "cell_type": "code",
   "execution_count": null,
   "metadata": {},
   "outputs": [],
   "source": [
    "client = tweepy.Client(bearer_token=BEARER)\n",
    "query = \"#BTC -has:media\"\n",
    "data = client.search_recent_tweets(query=query, expansions=['author_id'])\n",
    "\n",
    "\n",
    "res = client.search_recent_tweets(query=query, user_fields=['profile_image_url'])\n",
    "\n",
    "response = tweepy.Paginator(\n",
    "    res, query=query, user_fields=['profile_image_url']).flatten(\n",
    "        limit=1000)\n",
    "\n",
    "\n",
    "def show_user_tweets(username):\n",
    "    global user\n",
    "    user = client.get_user(username=username, tweet_fields=[\"lang\", \"created_at\"])\n",
    "    tweets = client.get_users_tweets(id=user.data.id)\n",
    "    for tweet in tweets:\n",
    "        for tw in tweet:\n",
    "            try:\n",
    "                print(tw.text.strip(), tw.lang, sep='\\n')\n",
    "            except AttributeError:\n",
    "                pass\n",
    "\n",
    "# user's followers(the following process is like this)\n",
    "def get_user_followers(username):\n",
    "    user = client.get_user(username=username)\n",
    "    followers = client.get_users_followers(user.data.id, user_fields=['profile_image_url'])\n",
    "    result = {follower.name:follower.profile_image_url for follower in followers.data}\n",
    "    return result\n",
    "\n",
    "\n",
    "def get_retweeters_of_a_tweet(tweet_id):\n",
    "    users = client.get_retweeters(id=id)\n",
    "    result=[user.username for user in users]\n",
    "    return result\n",
    "\n",
    "def get_information_of_tweet(tweet_id):\n",
    "    tweet = client.get_tweet(id=tweet_id)\n",
    "    result = {tw.text:tw.author for tw in tweet.data}\n",
    "    return result\n",
    "\n",
    "\n",
    "def tweeting(message:str):\n",
    "    global main_client\n",
    "    main_client = tweepy.Client(\n",
    "        consumer_key=API_KEY, consumer_secret=API_SECRET_KEY,\n",
    "        access_token=ACCESS_TOKEN, access_token_secret=ACCESS_SECRET_TOKEN)\n",
    "\n",
    "    result = main_client.create_tweet(\n",
    "        direct_message_deep_link=message, poll_duration_minutes=60, poll_options=[\"Yes\",\"No\"])\n",
    "    return result\n",
    "\n",
    "def retweeting_tweet(tweet_id):\n",
    "    result = client.retweet(id=tweet_id)\n",
    "    return result\n",
    "\n",
    "def replying(tweet_id, msg):\n",
    "    result = client.create_tweet(in_reply_to_tweet_id=tweet_id, text=msg)\n",
    "    return result\n"
   ]
  }
 ],
 "metadata": {
  "kernelspec": {
   "display_name": "Python 3.9.5 64-bit",
   "language": "python",
   "name": "python3"
  },
  "language_info": {
   "codemirror_mode": {
    "name": "ipython",
    "version": 3
   },
   "file_extension": ".py",
   "mimetype": "text/x-python",
   "name": "python",
   "nbconvert_exporter": "python",
   "pygments_lexer": "ipython3",
   "version": "3.9.5"
  },
  "orig_nbformat": 4,
  "vscode": {
   "interpreter": {
    "hash": "31f2aee4e71d21fbe5cf8b01ff0e069b9275f58929596ceb00d14d90e3e16cd6"
   }
  }
 },
 "nbformat": 4,
 "nbformat_minor": 2
}
