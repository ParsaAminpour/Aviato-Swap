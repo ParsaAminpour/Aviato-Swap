{
 "cells": [
  {
   "cell_type": "code",
   "execution_count": 70,
   "metadata": {},
   "outputs": [],
   "source": [
    "import matplotlib.pyplot as plt\n",
    "import matplotlib as plot\n",
    "import pandas as pd\n",
    "import numpy as np\n",
    "import seaborn as sns\n",
    "from rich import print, pretty\n",
    "from rich.console import Console\n",
    "from glob import glob\n",
    "# from mpl_finance import candlestick_ohlc\n",
    "import matplotlib.dates as plt_date\n",
    "import pandas_datareader as pdr\n",
    "from textblob import TextBlob\n",
    "import tweepy\n",
    "import webbrowser\n",
    "from sklearn.linear_model import LinearRegression\n",
    "import xlrd, itertools, re, os, math\n",
    "import mplfinance as mpf\n",
    "from datetime import datetime as dt\n",
    "import matplotlib.animation as animation\n",
    "import warnings, math\n",
    "# plt.style.use(['science', 'notebook'])\n",
    "warnings.simplefilter('ignore')"
   ]
  },
  {
   "cell_type": "code",
   "execution_count": 3,
   "metadata": {},
   "outputs": [],
   "source": [
    "API_KEY = \"0Q128gomlU0IWRS7gU8XKKpMO\"\n",
    "API_SECRET_KEY = \"7BXPWKTxH6mInjDjY5SCOAe8v7Ueujgu4msdodee9rAgTmAYWM\"\n",
    "BEARER = \"AAAAAAAAAAAAAAAAAAAAAHFreAEAAAAAIVCvposrjwGpLvMgF6rrA7McNeA%3DjvwcUe0HFktp0FsJKjShiYEWtKe5RmUSiNrk5kqgCznGsdgOtI\"\n",
    "ACCESS_TOKEN = \"1378945133073334272-n4bp6iaUv1GlTywau6aRnzYdbR4LEF\"\n",
    "ACCESS_SECRET_TOKEN = \"uy1WjfHzbabn3jg2qxXKs097x7rLWAi7TjGKuYzsqs2AA\""
   ]
  },
  {
   "cell_type": "code",
   "execution_count": null,
   "metadata": {},
   "outputs": [],
   "source": [
    "client = tweepy.Client(bearer_token=BEARER)\n",
    "\n",
    "user = client.get_user(username=\"MrTuriing\")\n",
    "\n",
    "# response = tweepy.Paginator(client.search_recent_tweets, query=\"#BTC OR #ETH\", ).flatten(limit=20)\n",
    "q =\"#BTC OR #ETH\"\n",
    "response = client.search_recent_tweets(query=\"#BTC OR #ETH\", max_results=10, user_fields=[\"profile_image_url\"])\n",
    "\n",
    "# for data in response.data:\n",
    "#     print(data.author_id)\n",
    "response2 = client.search_recent_tweets(query=q, user_fields=['profile_image_url', 'username'], \n",
    "    expansions=[\"author_id\",\"referenced_tweets.id\"], max_results=10)\n",
    "result = {data.author_id : data.text.strip() for data in response2.data}\n",
    "\n",
    "keys = list(result.keys())\n",
    "main = [client.get_user(id=key) for key in keys]\n",
    "\n"
   ]
  },
  {
   "cell_type": "code",
   "execution_count": null,
   "metadata": {},
   "outputs": [],
   "source": [
    "client = tweepy.Client(bearer_token = BEARER, wait_on_rate_limit=True)\n",
    "\n",
    "q =\"#BTC OR #ETH -is:retweet lang:en\"\n",
    "response2 = client.search_recent_tweets(query=q, user_fields=['profile_image_url', 'username'], expansions=[\"author_id\"], max_results=10)\n",
    "result = {data.author_id : data.text.strip() for data in response2.data}\n",
    "users = [client.get_user(id=key) for key in list(result)]\n",
    "\n",
    "usernames = [user.data.username for user in users]\n",
    "tweets = list(result.values())\n",
    "\n",
    "main_result = zip(usernames,tweets)\n",
    "# rooms = Room.objects.all()\t\n",
    "ctx = {'tweets' : main_result}\n",
    "for user,tw in main_result:\n",
    "    print(user, tw, sep='\\t')"
   ]
  },
  {
   "cell_type": "code",
   "execution_count": null,
   "metadata": {},
   "outputs": [],
   "source": [
    "response2 = client.search_recent_tweets(query=q, user_fields=['profile_image_url', 'username'], expansions=[\"author_id\"], max_results=10)\n",
    "result = {data.author_id : data.text.strip() for data in response2.data}\n",
    "\n",
    "users = [client.get_user(id=key) for key in list(result)]\n",
    "usernames = [user.data.username for user in users]\n",
    "tweets = list(result.values())\n",
    "\n",
    "main_result = zip(usernames,tweets)\n",
    "for data in main_result:\n",
    "    print(data[0])"
   ]
  },
  {
   "cell_type": "code",
   "execution_count": null,
   "metadata": {},
   "outputs": [],
   "source": []
  },
  {
   "cell_type": "markdown",
   "metadata": {},
   "source": [
    "<center><h2> This is sample code NOT executable </h2></center>"
   ]
  },
  {
   "cell_type": "code",
   "execution_count": null,
   "metadata": {},
   "outputs": [],
   "source": [
    "client = tweepy.Client(bearer_token=BEARER, wait_on_rate_limit=True)\n",
    "query = \"#BTC -has:media\"\n",
    "data = client.search_recent_tweets(query=query, expansions=['author_id'])\n",
    "\n",
    "\n",
    "res = client.search_recent_tweets(query=query, user_fields=['profile_image_url'])\n",
    "\n",
    "response = tweepy.Paginator(\n",
    "    res, query=query, user_fields=['profile_image_url']).flatten(\n",
    "        limit=1000)\n",
    "\n",
    "\n",
    "def show_user_tweets(username):\n",
    "    global user\n",
    "    user = client.get_user(username=username, tweet_fields=[\"lang\", \"created_at\"])\n",
    "    tweets = client.get_users_tweets(id=user.data.id)\n",
    "    for tweet in tweets:\n",
    "        for tw in tweet:\n",
    "            try:\n",
    "                print(tw.text.strip(), tw.lang, sep='\\n')\n",
    "            except AttributeError:\n",
    "                pass\n",
    "\n",
    "# user's followers(the following process is like this)\n",
    "def get_user_followers(username):\n",
    "    user = client.get_user(username=username)\n",
    "    followers = client.get_users_followers(user.data.id, user_fields=['profile_image_url'])\n",
    "    result = {follower.name:follower.profile_image_url for follower in followers.data}\n",
    "    return result\n",
    "\n",
    "\n",
    "def get_retweeters_of_a_tweet(tweet_id):\n",
    "    users = client.get_retweeters(id=id)\n",
    "    result=[user.username for user in users]\n",
    "    return result\n",
    "\n",
    "def get_information_of_tweet(tweet_id):\n",
    "    tweet = client.get_tweet(id=tweet_id)\n",
    "    result = {tw.text:tw.author for tw in tweet.data}\n",
    "    return result\n",
    "\n",
    "\n",
    "def tweeting(message:str):\n",
    "    global main_client\n",
    "    main_client = tweepy.Client(\n",
    "        consumer_key=API_KEY, consumer_secret=API_SECRET_KEY,\n",
    "        access_token=ACCESS_TOKEN, access_token_secret=ACCESS_SECRET_TOKEN)\n",
    "\n",
    "    result = main_client.create_tweet(\n",
    "        direct_message_deep_link=message, poll_duration_minutes=60, poll_options=[\"Yes\",\"No\"])\n",
    "    return result\n",
    "\n",
    "def retweeting_tweet(tweet_id):\n",
    "    result = client.retweet(id=tweet_id)\n",
    "    return result\n",
    "\n",
    "def replying(tweet_id, msg):\n",
    "    result = client.create_tweet(in_reply_to_tweet_id=tweet_id, text=msg)\n",
    "    return result\n"
   ]
  },
  {
   "cell_type": "markdown",
   "metadata": {},
   "source": [
    "<h3> Researching Sentiments </h3>"
   ]
  },
  {
   "cell_type": "code",
   "execution_count": 91,
   "metadata": {},
   "outputs": [
    {
     "data": {
      "image/png": "[encoded data removed]",
      "text/plain": [
       "<Figure size 360x360 with 1 Axes>"
      ]
     },
     "metadata": {
      "needs_background": "light"
     },
     "output_type": "display_data"
    }
   ],
   "source": [
    "client = tweepy.Client(bearer_token=BEARER, wait_on_rate_limit=True)\n",
    "\n",
    "query = \"#BTC -is:retweet lang:en\"\n",
    "\n",
    "response = tweepy.Paginator(\n",
    "    client.search_recent_tweets,\n",
    "    query=query, user_fields=['username','description','location', 'public_metrics'],\n",
    "    tweet_fields = ['created_at', 'geo', 'text', 'public_metrics'],\n",
    "    expansions='author_id',\n",
    "    max_results=10\n",
    ").flatten(limit=30)\n",
    "\n",
    "result = [res for res in response]\n",
    "main = list(result)\n",
    "\n",
    "analysis = [\n",
    "    TextBlob(data.text.strip()).sentiment for data in main]\n",
    "\n",
    "fig, ax = plt.subplots(figsize=(5,5))\n",
    "\n",
    "polarity = analysis[0]\n",
    "subjectivity = analysis[0][1]\n",
    "for data in analysis:\n",
    "    ax.scatter(x=data[0], y=data[1], alpha=.8)\n",
    "plt.show()"
   ]
  }
 ],
 "metadata": {
  "kernelspec": {
   "display_name": "Python 3.9.5 64-bit",
   "language": "python",
   "name": "python3"
  },
  "language_info": {
   "codemirror_mode": {
    "name": "ipython",
    "version": 3
   },
   "file_extension": ".py",
   "mimetype": "text/x-python",
   "name": "python",
   "nbconvert_exporter": "python",
   "pygments_lexer": "ipython3",
   "version": "3.9.5"
  },
  "orig_nbformat": 4,
  "vscode": {
   "interpreter": {
    "hash": "31f2aee4e71d21fbe5cf8b01ff0e069b9275f58929596ceb00d14d90e3e16cd6"
   }
  }
 },
 "nbformat": 4,
 "nbformat_minor": 2
}
